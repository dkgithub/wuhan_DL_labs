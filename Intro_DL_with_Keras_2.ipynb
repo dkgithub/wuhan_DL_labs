{
 "cells": [
  {
   "cell_type": "markdown",
   "metadata": {},
   "source": [
    "# Introduction to Deep Learning with Keras - Classification\n",
    "\n",
    "In the first tutorial notebook we used the Neural Network (NN) as a regression tool. A second large area where Deep Neural Networks are applied is classification. \n",
    "Depending on the different classes we want to distinguish, we talk about\n",
    " * Binary Classification\n",
    " * Multi-Class Classification\n",
    "\n",
    "We are still in the field of Supervised Learning, but the true values are now **discrete Class Labels**.\n",
    "\n",
    "In **Binary Classification** the target values are typically $y^{(i)} \\in \\{0,1\\}$,  like \"Cats=0\" and \"Dogs=1\", or Background and Signal. \n",
    "The dataset consists in this case of the multi-dimensional input vectors $\\mathbf{x}^{(i)}$, our data points, together with the true labels $y^{(i)} \\in \\{0,1\\}$.\n",
    "\n",
    "In order to make the connection between the discrete class label and the continuous NN output, we introduce a probabilistic interpretation of the NN. We assume that the NN represents some probability density $p(\\mathbf{x}|\\mathbf{w},\\mathbf{b})$, and we try to learn this density from the distribution of the labels in our data. \n",
    "\n",
    "A single node as last layer with a sigmoid activation function, the **Logistic Function**, is a way to implement this. The logistic function  maps all input into the range $[0,1]$, as it should be for a proper probability.\n",
    "\n",
    "<img src=\"img/Activation_logistic.png\" width=\"200\" >$f(x)=\\frac{1}{1+\\exp({-x})}$  \n",
    "\n",
    "\n",
    "A special loss function is needed for the training of such a network. \n",
    "The optimal parameters $\\mathbf{w,b}$ can be found by an Maximum Likelihood approach.\n",
    "The decision between 1/0 is a binomial process (Bernoulli trial), like tossing a coin. \n",
    "If we assume that the NN represents a probability estimate \n",
    "$\\widehat{y}=p(\\mathbf{x}|\\mathbf{w},\\mathbf{b})$, than the probability for being in class 1 will be just $\\widehat{y}$, and $1-\\widehat{y}$ for being in class 0. For a batch with $n_{batch}$ data points, we multiply the probability for each datapoint\n",
    "\n",
    "$$\\prod_\\textrm{k in class 1}^{n_{batch}} \\widehat{y}_k \n",
    "\\cdot \\prod_\\textrm{k in class 0}^{n_{batch}}(1-\\widehat{y}_k) \n",
    "= \\prod_k^{n_{batch}}  [ y_k \\widehat{y}_k + (1-y_k)(1-\\widehat{y}_k) ], \n",
    "$$\n",
    "\n",
    "and the -log likelihood becomes:\n",
    "$$-\\frac{1}{n_{batch}}\\sum_{i=1}^{n_{batch}}y_i\\log(\\widehat{y_i})+(1-y_i)\\log(1-\\widehat{y_i})$$ \n",
    "\n",
    "\n",
    " \n",
    "This expression is also known as **Cross Entropy**. The name is related to the fact that entropy is defined as the expectation value of log(probability): _Entropy_$\\,:=\\int log(p)p(x)dx$. If we take the average over some other probability $q(x)$, we talk about cross entropy, _Cross Entropy_$\\,:=\\int log(p)q(x)dx$. It can be shown that the cross entropy becomes minimal when the two probabilities are identical $p=q$. https://en.wikipedia.org/wiki/Gibbs%27_inequality<br>\n",
    "In addition, we have normalized by $1/n_{batch}$ that makes it easy to interpret,for example $\\frac{1}{n_{batch}}\\sum_{i=1}^{n_{batch}}y_i$ as probability for finding class 1 in the batch.\n",
    "\n",
    "In short, with cross entropy as loss function, the NN learns to model the distribution of the training labels $y^{(i)}$. After the training the NN output $\\widehat{y}$ is a number between $[0,1]$. To get a yes/no answer, one typically applies a threshold of $0.5$.\n",
    "***"
   ]
  },
  {
   "cell_type": "markdown",
   "metadata": {},
   "source": [
    "### Binary Classification Example \n",
    "\n",
    "We create the same toy data as in part 1, but this time we only ask if the output is positive"
   ]
  },
  {
   "cell_type": "code",
   "execution_count": 1,
   "metadata": {},
   "outputs": [],
   "source": [
    "# We create the same toy data as in part 1, but we only ask if the output is positive\n",
    "import numpy as np\n",
    "# We create 10000 random vectors each 10-dim\n",
    "N_samples=10000\n",
    "N_in=10\n",
    "# A matrix N_samplesxN_in, uniform in [0,1)\n",
    "x_train=np.random.rand(N_samples,N_in)\n",
    "# Sum of squares along N_in\n",
    "z = np.sum( np.square(x_train),axis=1)\n",
    "y_train = (np.sin(z) >= 0).astype(np.int32)"
   ]
  },
  {
   "cell_type": "code",
   "execution_count": 2,
   "metadata": {},
   "outputs": [
    {
     "name": "stdout",
     "output_type": "stream",
     "text": [
      "[1 0 1 1 0 1 0 0 0 1 0 0 0 0 1 0 0 0 0 0]\n"
     ]
    }
   ],
   "source": [
    "# The first 20 target values\n",
    "print y_train[:20]"
   ]
  },
  {
   "cell_type": "markdown",
   "metadata": {},
   "source": [
    "***\n",
    "We build a simple network to classify our toy data. There are a few things to note.\n",
    "* The shorthand name in Keras for the logistic function is just `sigmoid`.\n",
    "* Keras provides a cross entropy loss function for the binary case:<br> \n",
    "**losses.BinaryCrossentropy** https://www.tensorflow.org/api_docs/python/tf/keras/losses/BinaryCrossentropy.\n",
    "* When we compile the model we also add Accuracy as a **Metric**: `metrics=['acc']`.<br>\n",
    "A metric is a quality measure, similar to the loss, but it is not used for the learning. \n",
    "* We define a validation sample for the fit method: `validation_split=0.2`. This means that 20% of our trainings data will be put aside and only be used for validation. \n",
    "\n",
    "**Accuracy** is calculated from the predictions of the trained network. It is defined as the ratio of the correct classified labels (the correct 0s and 1s) over all data. For calculating, Keras must apply a threshold to get a yes/no response, since The NN output $\\widehat{y}$ is a number between $[0,1]$. By default the threshold value is $\\widehat{y}>0.5$ when calculating the accuracy. \n",
    "\n",
    "Also for the fitting, we use additional functionality. When we test the performance of a network on the same dataset as used for training, the result will be over-optimistic. The network typically learns some accidental patterns from the datasets. The performance will not **generalize** to new, unseen data. To check for such **Overtraining**, we calculate the loss and the metric(s) on an independent test sample. https://en.wikipedia.org/wiki/Overfitting"
   ]
  },
  {
   "cell_type": "code",
   "execution_count": 3,
   "metadata": {},
   "outputs": [
    {
     "name": "stdout",
     "output_type": "stream",
     "text": [
      "Train on 8000 samples, validate on 2000 samples\n",
      "Epoch 1/20\n",
      "8000/8000 [==============================] - 0s 42us/sample - loss: 0.6530 - acc: 0.5620 - val_loss: 0.6254 - val_acc: 0.5960\n",
      "Epoch 2/20\n",
      "8000/8000 [==============================] - 0s 9us/sample - loss: 0.5883 - acc: 0.6731 - val_loss: 0.5362 - val_acc: 0.7825\n",
      "Epoch 3/20\n",
      "8000/8000 [==============================] - 0s 9us/sample - loss: 0.4795 - acc: 0.7991 - val_loss: 0.4196 - val_acc: 0.8315\n",
      "Epoch 4/20\n",
      "8000/8000 [==============================] - 0s 9us/sample - loss: 0.3758 - acc: 0.8462 - val_loss: 0.3418 - val_acc: 0.8625\n",
      "Epoch 5/20\n",
      "8000/8000 [==============================] - 0s 9us/sample - loss: 0.3112 - acc: 0.8766 - val_loss: 0.2930 - val_acc: 0.8850\n",
      "Epoch 6/20\n",
      "8000/8000 [==============================] - 0s 9us/sample - loss: 0.2791 - acc: 0.8910 - val_loss: 0.2712 - val_acc: 0.8870\n",
      "Epoch 7/20\n",
      "8000/8000 [==============================] - 0s 12us/sample - loss: 0.2523 - acc: 0.9005 - val_loss: 0.2482 - val_acc: 0.8985\n",
      "Epoch 8/20\n",
      "8000/8000 [==============================] - 0s 9us/sample - loss: 0.2401 - acc: 0.9066 - val_loss: 0.2363 - val_acc: 0.9005\n",
      "Epoch 9/20\n",
      "8000/8000 [==============================] - 0s 10us/sample - loss: 0.2261 - acc: 0.9125 - val_loss: 0.2299 - val_acc: 0.9060\n",
      "Epoch 10/20\n",
      "8000/8000 [==============================] - 0s 9us/sample - loss: 0.2165 - acc: 0.9133 - val_loss: 0.2195 - val_acc: 0.9080\n",
      "Epoch 11/20\n",
      "8000/8000 [==============================] - 0s 9us/sample - loss: 0.2138 - acc: 0.9176 - val_loss: 0.2134 - val_acc: 0.9130\n",
      "Epoch 12/20\n",
      "8000/8000 [==============================] - 0s 9us/sample - loss: 0.2107 - acc: 0.9164 - val_loss: 0.2069 - val_acc: 0.9135\n",
      "Epoch 13/20\n",
      "8000/8000 [==============================] - 0s 9us/sample - loss: 0.2003 - acc: 0.9222 - val_loss: 0.2043 - val_acc: 0.9145\n",
      "Epoch 14/20\n",
      "8000/8000 [==============================] - 0s 9us/sample - loss: 0.1974 - acc: 0.9255 - val_loss: 0.2085 - val_acc: 0.9140\n",
      "Epoch 15/20\n",
      "8000/8000 [==============================] - 0s 9us/sample - loss: 0.1945 - acc: 0.9230 - val_loss: 0.1967 - val_acc: 0.9180\n",
      "Epoch 16/20\n",
      "8000/8000 [==============================] - 0s 9us/sample - loss: 0.1904 - acc: 0.9259 - val_loss: 0.1955 - val_acc: 0.9205\n",
      "Epoch 17/20\n",
      "8000/8000 [==============================] - 0s 9us/sample - loss: 0.1880 - acc: 0.9244 - val_loss: 0.1914 - val_acc: 0.9190\n",
      "Epoch 18/20\n",
      "8000/8000 [==============================] - 0s 9us/sample - loss: 0.1807 - acc: 0.9295 - val_loss: 0.1882 - val_acc: 0.9220\n",
      "Epoch 19/20\n",
      "8000/8000 [==============================] - 0s 9us/sample - loss: 0.1788 - acc: 0.9319 - val_loss: 0.1865 - val_acc: 0.9175\n",
      "Epoch 20/20\n",
      "8000/8000 [==============================] - 0s 9us/sample - loss: 0.1779 - acc: 0.9317 - val_loss: 0.2164 - val_acc: 0.9060\n"
     ]
    }
   ],
   "source": [
    "from tensorflow.keras import models, layers, losses, optimizers\n",
    "# To suppress depraction warnings in some environments\n",
    "from tensorflow import logging\n",
    "logging.set_verbosity(logging.ERROR)\n",
    "\n",
    "model = models.Sequential(\n",
    "    [\n",
    "        layers.Dense(100, activation='relu', input_dim=10),\n",
    "        layers.Dense(100, activation='relu'),\n",
    "        layers.Dense(1, activation='sigmoid')\n",
    "    ]\n",
    ")\n",
    "optimizer = optimizers.Adam()\n",
    "model.compile(optimizer=optimizer,loss=losses.BinaryCrossentropy(), metrics=['acc'])\n",
    "histObj = model.fit(x_train, y_train, batch_size=256, epochs=20, validation_split=0.2)\n",
    "#histObj = model.fit(x_train, y_train, batch_size=256, epochs=100, validation_split=0.2)"
   ]
  },
  {
   "cell_type": "code",
   "execution_count": 4,
   "metadata": {},
   "outputs": [
    {
     "data": {
      "text/plain": [
       "['acc', 'loss', 'val_acc', 'val_loss']"
      ]
     },
     "execution_count": 4,
     "metadata": {},
     "output_type": "execute_result"
    }
   ],
   "source": [
    "# We have now 2x2 histories, \n",
    "# for the 2 samples, training and validation,\n",
    "# and for the loss and the accuracy\n",
    "histObj.history.keys()"
   ]
  },
  {
   "cell_type": "markdown",
   "metadata": {},
   "source": [
    "### Leraning Curves"
   ]
  },
  {
   "cell_type": "code",
   "execution_count": 5,
   "metadata": {},
   "outputs": [
    {
     "data": {
      "image/png": "[encoded data removed]",
      "text/plain": [
       "<matplotlib.figure.Figure at 0x18246e8190>"
      ]
     },
     "metadata": {},
     "output_type": "display_data"
    }
   ],
   "source": [
    "import matplotlib.pyplot as plt\n",
    "%matplotlib inline\n",
    "\n",
    "# Plot training & validation loss values over epochs\n",
    "plt.plot(histObj.history['loss'])\n",
    "plt.plot(histObj.history['val_loss'])\n",
    "plt.title('model_output loss')\n",
    "plt.ylabel('Loss')\n",
    "plt.xlabel('Epoch')\n",
    "plt.legend(['Train', 'Test'], loc='upper right')\n",
    "plt.show()"
   ]
  },
  {
   "cell_type": "markdown",
   "metadata": {},
   "source": [
    "Again, the loss drops quickly over the first epochs and then improves only slowly.\n",
    "Note the peculiarity of the Keras history object: In the first epochs, the test loss is lower than the train loss. We would expect the opposite behavior: a better or at least similar performance on the train data due to overfitting. The reason is that the training loss is computed as the average of the losses over each batch of training data. Because your model is changing over time, the loss over the first batches of an epoch is generally higher than over the last batches. In contrast, the testing loss is calculated using the model as it is at the end of each epoch, resulting in a lower loss. After a few epochs, when the model does not change quickly anymore, and the overtraining becomes larger, we see the expected trend.\n",
    "\n",
    "The fact that train and test loss do not diverge strongly shows that the chosen model is not too complex for our problem. \n",
    "\n",
    "The loss is still falling after 20 epochs. A larger number of epochs will probably improve the training.   \n",
    "***\n",
    "The accuracy in the next plot follows mainly the loss improvement. It starts at about 0.5 - even a purely random label would be correct in 50% of the trials. Try!"
   ]
  },
  {
   "cell_type": "code",
   "execution_count": 9,
   "metadata": {},
   "outputs": [
    {
     "data": {
      "image/png": "[encoded data removed]",
      "text/plain": [
       "<matplotlib.figure.Figure at 0x18269260d0>"
      ]
     },
     "metadata": {},
     "output_type": "display_data"
    }
   ],
   "source": [
    "# Plot training & validation accuracy values\n",
    "plt.plot(histObj.history['acc'])\n",
    "plt.plot(histObj.history['val_acc'])\n",
    "plt.title('Model accuracy')\n",
    "plt.ylabel('Accuracy')\n",
    "plt.xlabel('Epoch')\n",
    "plt.legend(['Train', 'Test'], loc='right')\n",
    "plt.show()"
   ]
  },
  {
   "cell_type": "markdown",
   "metadata": {},
   "source": [
    "***\n",
    "We can evaluate our model on a dataset: `model.evaluate` returns the metric(s) and loss(es) we have provided in the compile step. Note that a larger batch size also speeds up the calculation during prediction!"
   ]
  },
  {
   "cell_type": "code",
   "execution_count": 10,
   "metadata": {},
   "outputs": [
    {
     "name": "stdout",
     "output_type": "stream",
     "text": [
      "10000/10000 [==============================] - 0s 3us/sample - loss: 0.2018 - acc: 0.9149\n",
      "(0.2018295553445816, 0.9149)\n"
     ]
    }
   ],
   "source": [
    "# We evaluate our model on the complete trainings dataset \n",
    "# A larger batch size speeds up the calculations\n",
    "loss_value, accuracy = model.evaluate(x_train, y_train,batch_size=512)\n",
    "print(loss_value,accuracy)"
   ]
  },
  {
   "cell_type": "code",
   "execution_count": 11,
   "metadata": {},
   "outputs": [],
   "source": [
    "## Uncomment, if you want to test the speed improvements yourself\n",
    "#%timeit y_pred=model.predict(x_train).reshape(y_train.shape) \n",
    "# 1 loop, best of 3: 189 ms per loop - Intel Core i7 2 core 2.5 GHz MacBook Pro\n",
    "#%timeit y_pred=model.predict(x_train,batch_size=512).reshape(y_train.shape)\n",
    "# 10 loops, best of 3: 17 ms per loop\n",
    "## The results maybe differ but only within the numerical presicion\n",
    "#y_pred_a=model.predict(x_train).reshape(y_train.shape)\n",
    "#y_pred_b=model.predict(x_train,batch_size=512).reshape(y_train.shape)\n",
    "#print('numeric identical',np.sum(np.isclose(y_pred_a,y_pred_b)))\n",
    "y_pred=model.predict(x_train,batch_size=512).reshape(y_train.shape)"
   ]
  },
  {
   "cell_type": "code",
   "execution_count": 12,
   "metadata": {},
   "outputs": [
    {
     "name": "stdout",
     "output_type": "stream",
     "text": [
      "0.9149\n"
     ]
    }
   ],
   "source": [
    "# The accuracy calculation by hand\n",
    "accuracy=np.mean(np.equal(y_train, y_pred>0.5))\n",
    "print accuracy"
   ]
  },
  {
   "cell_type": "markdown",
   "metadata": {},
   "source": [
    "***\n",
    "## Multi-Class Classification "
   ]
  },
  {
   "cell_type": "markdown",
   "metadata": {},
   "source": [
    "Often a problem consists in identifiying multiple classes or categories. Each datapoint belongs to exactly one class, and the training data is labeled according to the $K$ classes: $y^{(i)}\\in\\{1,..,K\\}$. The classical example is the identification of images from handwritten numbers 0-9. \n",
    "\n",
    "The considerations presented above for binary classification can be applied in a similar way to multi-class classification.\n",
    "Instead of a binomial problem, we have now a multi-nomial problem, and the proper loss function becomes the **Categorical Cross Entropy**.\n",
    "\n",
    "As in the binary case, we implement a probability interpretation of the NN output. The output layer must be extended to represent the $K$ classes: Instead of the one sigmoid, we must have $K$ nodes with output $z_k$, and we need an activation function that allows a probability interpretation. The appropriate activation function in this case is called **Softmax**:\n",
    "\n",
    "$f_{k}(\\overrightarrow{z})=\\frac{\\exp({z_{k}})}{\\sum_{j=1}^{K} \\exp({z_{j}})} \\quad \\text { for } k=1, \\ldots, K$ https://en.wikipedia.org/wiki/Softmax_function\n",
    "\n",
    "The softmax function is defined in a way that each output node stays within $[0,1]$, as it must be for a probability, and the sum of all outputs is always one ($\\sum_k f_k=1$). The predicted class is then the node with the largest softmax output.\n",
    "\n",
    "In short, for multi-classification we use K nodes with softmax activation and (sparse, see below) categorical cross entropy as loss.\n",
    "\n"
   ]
  },
  {
   "cell_type": "markdown",
   "metadata": {},
   "source": [
    "###  Fashion-MNIST\n",
    "\n",
    "As multi-class example, we take the Fashion-MNIST dataset. This dataset had been become popular in last few years as a benchmark example in image classification. https://github.com/zalandoresearch/fashion-mnist\n",
    "(Zalando SE is a European e-commerce company based in Berlin selling fashion products.)\n",
    "\n",
    "Keras knows this dataset and can provides the images (or downloads them on first use)."
   ]
  },
  {
   "cell_type": "code",
   "execution_count": 13,
   "metadata": {},
   "outputs": [],
   "source": [
    "import tensorflow as tf\n",
    "dataset = tf.keras.datasets.fashion_mnist"
   ]
  },
  {
   "cell_type": "markdown",
   "metadata": {},
   "source": [
    "The dataset consists of 60k trainings image and 10k test images. The images are grayscale with 28x28 pixels. There are 10 equal sized categories. "
   ]
  },
  {
   "cell_type": "code",
   "execution_count": 14,
   "metadata": {},
   "outputs": [
    {
     "name": "stdout",
     "output_type": "stream",
     "text": [
      "(60000, 28, 28)\n"
     ]
    }
   ],
   "source": [
    "(x_train, y_train),(x_test, y_test) = dataset.load_data()\n",
    "print x_train.shape"
   ]
  },
  {
   "cell_type": "code",
   "execution_count": 15,
   "metadata": {},
   "outputs": [],
   "source": [
    "# It is always a good practice to normalize the dataset\n",
    "x_train, x_test = x_train / 255.0, x_test / 255.0"
   ]
  },
  {
   "cell_type": "markdown",
   "metadata": {},
   "source": [
    "We print the first 20 labels from this dataset."
   ]
  },
  {
   "cell_type": "code",
   "execution_count": 16,
   "metadata": {},
   "outputs": [
    {
     "name": "stdout",
     "output_type": "stream",
     "text": [
      "[9 0 0 3 0 2 7 2 5 5 0 9 5 5 7 9 1 0 6 4]\n"
     ]
    }
   ],
   "source": [
    "print y_train[:20]"
   ]
  },
  {
   "cell_type": "markdown",
   "metadata": {},
   "source": [
    "A technicallity, Keras provides two versions of categorial cross entropy (CCE) loss. The choice depends on the way how the class labels are represented. There are essentially 2 possibilities: the one-hot-encoding, for example `[0,0,0,1,0,0,0,0,0,0]`, where the position marks the class, or just integer numbers, like '3'. From the previous cell, we see that the latter is used in the fashion-MNIST dataset. The appropriate implementation of the loss function in this case is the sparse CCE.\n",
    "<br>\n",
    "https://www.tensorflow.org/api_docs/python/tf/keras/backend/sparse_categorical_crossentropy\n",
    "***\n",
    "We define names for the classes, and plot a few training images to get an idea of the data."
   ]
  },
  {
   "cell_type": "code",
   "execution_count": 17,
   "metadata": {},
   "outputs": [
    {
     "data": {
      "image/png": "[encoded data removed]",
      "text/plain": [
       "<matplotlib.figure.Figure at 0x182699b110>"
      ]
     },
     "metadata": {},
     "output_type": "display_data"
    }
   ],
   "source": [
    "class_names=['T-shirt/top','Trouser','Pullover','Dress','Coat','Sandal','Shirt','Sneaker','Bag','Ankle boot']\n",
    "import matplotlib.pyplot as plt\n",
    "plt.figure(figsize=(10,10))\n",
    "for i in range(5):\n",
    "    plt.subplot(1,5,i+1)\n",
    "    plt.xticks([])\n",
    "    plt.yticks([])\n",
    "    plt.grid(False)\n",
    "    plt.imshow(x_train[i], cmap=plt.cm.binary)\n",
    "    plt.xlabel(class_names[y_train[i]])\n",
    "plt.show()"
   ]
  },
  {
   "cell_type": "markdown",
   "metadata": {},
   "source": [
    "Indeed, fashion items."
   ]
  },
  {
   "cell_type": "markdown",
   "metadata": {},
   "source": [
    "### Building the Network\n",
    "* As in the introduction described, we use a last layer with $K=10$ nodes and the 'softmax' activation together with sparse categorial cross entropy.\n",
    "* The first layer flattens the images. The 28x28 image is transformed into a 784 vector. There are better ways to handle image data.\n",
    "* Accuracy as metric is included. There are now 10 categories and a randomly applied label would have a 10% chance to be correct. \n",
    "* Note that with a few lines of code we have defined a model with more than half a million of parameters."
   ]
  },
  {
   "cell_type": "code",
   "execution_count": 26,
   "metadata": {},
   "outputs": [
    {
     "name": "stdout",
     "output_type": "stream",
     "text": [
      "_________________________________________________________________\n",
      "Layer (type)                 Output Shape              Param #   \n",
      "=================================================================\n",
      "flatten_2 (Flatten)          (None, 784)               0         \n",
      "_________________________________________________________________\n",
      "dense_9 (Dense)              (None, 512)               401920    \n",
      "_________________________________________________________________\n",
      "dense_10 (Dense)             (None, 512)               262656    \n",
      "_________________________________________________________________\n",
      "dense_11 (Dense)             (None, 10)                5130      \n",
      "=================================================================\n",
      "Total params: 669,706\n",
      "Trainable params: 669,706\n",
      "Non-trainable params: 0\n",
      "_________________________________________________________________\n"
     ]
    }
   ],
   "source": [
    "from tensorflow.keras import models, layers, losses, optimizers\n",
    "\n",
    "model = tf.keras.models.Sequential([\n",
    "  layers.Flatten(input_shape=(28, 28)),\n",
    "  layers.Dense(512, activation='relu'),\n",
    "  layers.Dense(512, activation='relu'),\n",
    "  layers.Dense(10, activation='softmax')\n",
    "])\n",
    "model.summary()\n",
    "\n",
    "model.compile(optimizer='adam',\n",
    "              loss='sparse_categorical_crossentropy',\n",
    "              metrics=['acc'])"
   ]
  },
  {
   "cell_type": "code",
   "execution_count": 27,
   "metadata": {},
   "outputs": [
    {
     "name": "stdout",
     "output_type": "stream",
     "text": [
      "Train on 60000 samples, validate on 10000 samples\n",
      "Epoch 1/5\n",
      "60000/60000 [==============================] - 4s 59us/sample - loss: 0.5025 - acc: 0.8242 - val_loss: 0.4262 - val_acc: 0.8477\n",
      "Epoch 2/5\n",
      "60000/60000 [==============================] - 3s 56us/sample - loss: 0.3567 - acc: 0.8703 - val_loss: 0.3912 - val_acc: 0.8586\n",
      "Epoch 3/5\n",
      "60000/60000 [==============================] - 3s 57us/sample - loss: 0.3176 - acc: 0.8846 - val_loss: 0.3513 - val_acc: 0.8708\n",
      "Epoch 4/5\n",
      "60000/60000 [==============================] - 3s 58us/sample - loss: 0.2890 - acc: 0.8944 - val_loss: 0.3530 - val_acc: 0.8746\n",
      "Epoch 5/5\n",
      "60000/60000 [==============================] - 3s 57us/sample - loss: 0.2744 - acc: 0.8986 - val_loss: 0.3315 - val_acc: 0.8783\n"
     ]
    }
   ],
   "source": [
    "history=model.fit(x_train, y_train, validation_data=(x_test,y_test), batch_size=256, epochs=5)"
   ]
  },
  {
   "cell_type": "code",
   "execution_count": 28,
   "metadata": {},
   "outputs": [
    {
     "name": "stdout",
     "output_type": "stream",
     "text": [
      "['acc', 'loss', 'val_acc', 'val_loss']\n"
     ]
    },
    {
     "data": {
      "image/png": "[encoded data removed]",
      "text/plain": [
       "<matplotlib.figure.Figure at 0x182889e490>"
      ]
     },
     "metadata": {},
     "output_type": "display_data"
    },
    {
     "data": {
      "image/png": "[encoded data removed]",
      "text/plain": [
       "<matplotlib.figure.Figure at 0x1827e04750>"
      ]
     },
     "metadata": {},
     "output_type": "display_data"
    }
   ],
   "source": [
    "import matplotlib.pyplot as plt\n",
    "print(history.history.keys())\n",
    "# summarize history for loss\n",
    "plt.plot(history.history['loss'])\n",
    "plt.plot(history.history['val_loss'])\n",
    "plt.title('Model loss')\n",
    "plt.ylabel('loss')\n",
    "plt.xlabel('epoch')\n",
    "plt.legend(['train', 'test'], loc='upper left')\n",
    "plt.show()\n",
    "# summarize history for accuracy\n",
    "plt.plot(history.history['acc'])\n",
    "plt.plot(history.history['val_acc'])\n",
    "plt.title('Model accuracy')\n",
    "plt.ylabel('accuracy')\n",
    "plt.xlabel('epoch')\n",
    "plt.legend(['train', 'test'], loc='upper left')\n",
    "plt.show()"
   ]
  },
  {
   "cell_type": "code",
   "execution_count": 29,
   "metadata": {},
   "outputs": [
    {
     "data": {
      "image/png": "[encoded data removed]",
      "text/plain": [
       "<matplotlib.figure.Figure at 0x1828ee4710>"
      ]
     },
     "metadata": {},
     "output_type": "display_data"
    }
   ],
   "source": [
    "import numpy as np\n",
    "fiveImages = x_test[0:5]\n",
    "predictions = model.predict(fiveImages)\n",
    "predictions = np.argmax(predictions,axis=1)\n",
    "\n",
    "plt.figure(figsize=(10,10))\n",
    "for i in range(5):\n",
    "    plt.subplot(1,5,i+1)\n",
    "    plt.xticks([])\n",
    "    plt.yticks([])\n",
    "    plt.grid(False)\n",
    "    plt.imshow(fiveImages[i], cmap=plt.cm.binary)\n",
    "    plt.xlabel('pred.: '+class_names[predictions[i]])\n",
    "plt.show()"
   ]
  },
  {
   "cell_type": "markdown",
   "metadata": {},
   "source": [
    "### GPU Usage"
   ]
  },
  {
   "cell_type": "code",
   "execution_count": 22,
   "metadata": {},
   "outputs": [
    {
     "name": "stdout",
     "output_type": "stream",
     "text": [
      "[name: \"/device:CPU:0\"\n",
      "device_type: \"CPU\"\n",
      "memory_limit: 268435456\n",
      "locality {\n",
      "}\n",
      "incarnation: 13414798630152770932\n",
      "]\n"
     ]
    }
   ],
   "source": [
    "from tensorflow.python.client import device_lib\n",
    "print(device_lib.list_local_devices())"
   ]
  },
  {
   "cell_type": "code",
   "execution_count": null,
   "metadata": {},
   "outputs": [],
   "source": []
  }
 ],
 "metadata": {
  "kernelspec": {
   "display_name": "Python2 (eager)",
   "language": "python",
   "name": "eager"
  },
  "language_info": {
   "codemirror_mode": {
    "name": "ipython",
    "version": 2
   },
   "file_extension": ".py",
   "mimetype": "text/x-python",
   "name": "python",
   "nbconvert_exporter": "python",
   "pygments_lexer": "ipython2",
   "version": "2.7.14"
  }
 },
 "nbformat": 4,
 "nbformat_minor": 2
}
