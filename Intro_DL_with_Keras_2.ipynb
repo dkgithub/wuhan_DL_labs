{
 "cells": [
  {
   "cell_type": "markdown",
   "metadata": {},
   "source": [
    "# Introduction to Deep Learning with Keras - Classification\n",
    "\n",
    "In the first tutorial notebook we used the NN as a regression tool. A second large area where Deep Neural Networks are applied is classification. \n",
    "Depending on the different classes we want to distinguish, we talk about\n",
    " * Binary Classification\n",
    " * Multi-Class Classification\n",
    "\n",
    "We are still in the field of Supervised Learning but the true values are now discrete **Class Labels**.\n",
    "\n",
    "In **Binary Classification** the target values are typically $y^{(i)} \\in \\{0,1\\}$,  like \"Cats=0\" and \"Dogs=1\", or Background and Signal. \n",
    "The dataset consists in this case of the multi-dimensional input vectors $\\mathbf{x}^{(i)}$, our data points, together with the true labels $y^{(i)} \\in \\{0,1\\}$.\n",
    "\n",
    "In order to make the connection between the discrete class label and the continous NN output, we introduce a probabilistic interpretation of the NN. We assume that the NN represents some probability density $p(\\mathbf{x}|\\mathbf{w},\\mathbf{b})$ and we try to learn this density from the distribution of the labels in our data. \n",
    "\n",
    "A single node as last layer with a sigmoid activation function, the **Logistic Function**, is a way to implement this. The logistic function  maps all input into the range $[0,1]$, as it should be for a proper probability.\n",
    "\n",
    "<img src=\"img/Activation_logistic.png\" width=\"200\" >$f(x)=\\sigma(x)=\\frac{1}{1+\\exp({-x})}$  \n",
    "\n",
    "\n",
    "For the training of such a network a special loss function is needed. \n",
    "The optimal parameters $\\mathbf{w,b}$ can be found by an Maximum Likelihood approach.\n",
    "The decision between 1/0 is a binomial process (Bernoulli trial), like tossing a coil. \n",
    "If we assume that the NN represents a probability estimate \n",
    "$\\widehat{y}=p(\\mathbf{x}|\\mathbf{w},\\mathbf{b})$, than the probability for being in class 1 will be just $\\widehat{y}$, and $1-\\widehat{y}$ for being in class 0. The -log likelihood becomes for one batch with $\\;n_{batch}\\;$ data points:\n",
    "\n",
    "$-\\frac{1}{n_{batch}}\\sum_{i=1}^{n_{batch}}y_i\\log(\\widehat{y_i})+(1-y_i)\\log(1-\\widehat{y_i})$ \n",
    "\n",
    "In addition, we have normalized by $1/n_{batch}$ that makes it easy to interpret $\\frac{1}{n_{batch}}\\sum_{i=1}^{n_{batch}}y_i$ as probability of class 1 in the data.\n",
    " \n",
    "This expression is also known as **Cross Entropy**. The name is related to the fact that entropy is defined as the expecation value of log(probability): _Entropy_$\\,:=\\int log(p)p(x)dx$. If we take the average over some other probability $q(x)$, we talk about cross entropy, _Cross Entropy_$\\,:=\\int log(p)q(x)dx$. It can be shown that the cross entropy becomes minimal when the two probabilities are identical $p=q$. https://en.wikipedia.org/wiki/Gibbs%27_inequality\n",
    "\n",
    "With cross entropy as loss function, the NN learns to model the distribution of the training labels $y^{(i)}$. After the training the NN output $\\widehat{y}$ is a number between $[0,1]$. To get a yes/no answer, one typically applies a cut at $0.5$.\n",
    "***"
   ]
  },
  {
   "cell_type": "markdown",
   "metadata": {},
   "source": [
    "### Binary Classification Example \n",
    "\n",
    "We create the same toy data as in part 1, but this time we only ask if the output is positive"
   ]
  },
  {
   "cell_type": "code",
   "execution_count": 184,
   "metadata": {},
   "outputs": [],
   "source": [
    "# We create the same toy data as in part 1, but we only ask if the output is positive\n",
    "import numpy as np\n",
    "# We create 10000 random vectors each 10-dim\n",
    "N_samples=10000\n",
    "N_in=10\n",
    "# A matrix N_samplesxN_in, uniform in [0,1)\n",
    "x_train=np.random.rand(N_samples,N_in)\n",
    "# Sum of squares along N_in\n",
    "z = np.sum( np.square(x_train),axis=1)\n",
    "y_train = (np.sin(z) >= 0).astype(np.int32)"
   ]
  },
  {
   "cell_type": "code",
   "execution_count": 192,
   "metadata": {},
   "outputs": [
    {
     "name": "stdout",
     "output_type": "stream",
     "text": [
      "[1 1 1 0 1 1 0 0 1 0]\n"
     ]
    }
   ],
   "source": [
    "# The first 10 target values\n",
    "print y_train[:10]"
   ]
  },
  {
   "cell_type": "markdown",
   "metadata": {},
   "source": [
    "***\n",
    "We build a simple network to classify our toy data. There are a few things to note.\n",
    "* The shorthand name in Keras for the logistic function is just `sigmoid`.\n",
    "* Keras provides a cross entropy loss function for the binary case:<br> \n",
    "**losses.BinaryCrossentropy** https://www.tensorflow.org/api_docs/python/tf/keras/losses/BinaryCrossentropy.\n",
    "* When we compile the model we also add Accuracy as a **Metric**: `metrics=['acc']`.<br>\n",
    "A metric is a quality measure, similar to the loss, but it is not used for the learning. \n",
    "* We define a validation sample for the fit method: `validation_split=0.2`. This means that 20% of our trainings data will be put aside and only be used for validation. \n",
    "\n",
    "**Accuracy** is calculated from the predictions of the trained network. It is defined as the ratio of the correct classified labels (the correct 0s and 1s) over all data. For calculating, Keras must apply a threshold to get a yes/no response, since The NN output $\\widehat{y}$ is a number between $[0,1]$. By default the threshold value is $\\widehat{y}>0.5$ when calculating the accuracy. \n",
    "\n",
    "Also for the fitting, we use a new functionality. When we test the performance of a network on the same dataset that had been used for training, the result will be over-optimistic. The network typically learns some accidental patterns from the datasets. The performance will not **generalize** to new, unseen data. To check for such **Overtraining**, we calculate the loss and the metric(s) on an independent test sample. https://en.wikipedia.org/wiki/Overfitting"
   ]
  },
  {
   "cell_type": "code",
   "execution_count": 207,
   "metadata": {},
   "outputs": [
    {
     "name": "stdout",
     "output_type": "stream",
     "text": [
      "Train on 8000 samples, validate on 2000 samples\n",
      "Epoch 1/20\n",
      "8000/8000 [==============================] - 1s 75us/sample - loss: 0.6630 - acc: 0.5658 - val_loss: 0.6525 - val_acc: 0.5535\n",
      "Epoch 2/20\n",
      "8000/8000 [==============================] - 0s 10us/sample - loss: 0.6277 - acc: 0.5900 - val_loss: 0.6122 - val_acc: 0.6160\n",
      "Epoch 3/20\n",
      "8000/8000 [==============================] - 0s 11us/sample - loss: 0.5753 - acc: 0.6940 - val_loss: 0.5437 - val_acc: 0.7350\n",
      "Epoch 4/20\n",
      "8000/8000 [==============================] - 0s 11us/sample - loss: 0.4918 - acc: 0.7908 - val_loss: 0.4523 - val_acc: 0.8385\n",
      "Epoch 5/20\n",
      "8000/8000 [==============================] - 0s 10us/sample - loss: 0.4095 - acc: 0.8475 - val_loss: 0.3881 - val_acc: 0.8420\n",
      "Epoch 6/20\n",
      "8000/8000 [==============================] - 0s 11us/sample - loss: 0.3458 - acc: 0.8679 - val_loss: 0.3337 - val_acc: 0.8780\n",
      "Epoch 7/20\n",
      "8000/8000 [==============================] - 0s 11us/sample - loss: 0.3033 - acc: 0.8846 - val_loss: 0.2995 - val_acc: 0.8900\n",
      "Epoch 8/20\n",
      "8000/8000 [==============================] - 0s 10us/sample - loss: 0.2757 - acc: 0.8949 - val_loss: 0.2773 - val_acc: 0.8995\n",
      "Epoch 9/20\n",
      "8000/8000 [==============================] - 0s 10us/sample - loss: 0.2524 - acc: 0.9024 - val_loss: 0.2609 - val_acc: 0.9040\n",
      "Epoch 10/20\n",
      "8000/8000 [==============================] - 0s 11us/sample - loss: 0.2407 - acc: 0.9039 - val_loss: 0.2488 - val_acc: 0.9090\n",
      "Epoch 11/20\n",
      "8000/8000 [==============================] - 0s 13us/sample - loss: 0.2282 - acc: 0.9086 - val_loss: 0.2406 - val_acc: 0.9125\n",
      "Epoch 12/20\n",
      "8000/8000 [==============================] - 0s 11us/sample - loss: 0.2176 - acc: 0.9133 - val_loss: 0.2372 - val_acc: 0.9105\n",
      "Epoch 13/20\n",
      "8000/8000 [==============================] - 0s 11us/sample - loss: 0.2112 - acc: 0.9154 - val_loss: 0.2317 - val_acc: 0.9120\n",
      "Epoch 14/20\n",
      "8000/8000 [==============================] - 0s 10us/sample - loss: 0.2126 - acc: 0.9084 - val_loss: 0.2256 - val_acc: 0.9160\n",
      "Epoch 15/20\n",
      "8000/8000 [==============================] - 0s 10us/sample - loss: 0.2044 - acc: 0.9164 - val_loss: 0.2319 - val_acc: 0.9125\n",
      "Epoch 16/20\n",
      "8000/8000 [==============================] - 0s 10us/sample - loss: 0.2001 - acc: 0.9187 - val_loss: 0.2212 - val_acc: 0.9120\n",
      "Epoch 17/20\n",
      "8000/8000 [==============================] - 0s 11us/sample - loss: 0.1976 - acc: 0.9153 - val_loss: 0.2237 - val_acc: 0.9140\n",
      "Epoch 18/20\n",
      "8000/8000 [==============================] - 0s 11us/sample - loss: 0.1957 - acc: 0.9190 - val_loss: 0.2204 - val_acc: 0.9165\n",
      "Epoch 19/20\n",
      "8000/8000 [==============================] - 0s 10us/sample - loss: 0.1928 - acc: 0.9208 - val_loss: 0.2172 - val_acc: 0.9140\n",
      "Epoch 20/20\n",
      "8000/8000 [==============================] - 0s 11us/sample - loss: 0.1904 - acc: 0.9220 - val_loss: 0.2156 - val_acc: 0.9135\n"
     ]
    }
   ],
   "source": [
    "from tensorflow.keras import models, layers, losses, optimizers\n",
    "\n",
    "model = models.Sequential(\n",
    "    [\n",
    "        layers.Dense(50, activation='relu', input_dim=10),\n",
    "        layers.Dense(50, activation='relu'),\n",
    "        layers.Dense(1, activation='sigmoid')\n",
    "    ]\n",
    ")\n",
    "optimizer = optimizers.Adam()\n",
    "model.compile(optimizer=optimizer,loss=losses.BinaryCrossentropy(), metrics=['acc'])\n",
    "histObj = model.fit(x_train, y_train, batch_size=256, epochs=20, validation_split=0.2)"
   ]
  },
  {
   "cell_type": "code",
   "execution_count": 208,
   "metadata": {},
   "outputs": [
    {
     "data": {
      "text/plain": [
       "['acc', 'loss', 'val_acc', 'val_loss']"
      ]
     },
     "execution_count": 208,
     "metadata": {},
     "output_type": "execute_result"
    }
   ],
   "source": [
    "# We have now 2x2 histories, \n",
    "# for the 2 samples, training and validation,\n",
    "# and for the loss and the accuracy\n",
    "histObj.history.keys()"
   ]
  },
  {
   "cell_type": "code",
   "execution_count": 209,
   "metadata": {},
   "outputs": [
    {
     "data": {
      "image/png": "[encoded data removed]",
      "text/plain": [
       "<matplotlib.figure.Figure at 0x182b772b50>"
      ]
     },
     "metadata": {},
     "output_type": "display_data"
    },
    {
     "data": {
      "image/png": "[encoded data removed]",
      "text/plain": [
       "<matplotlib.figure.Figure at 0x182b236210>"
      ]
     },
     "metadata": {},
     "output_type": "display_data"
    }
   ],
   "source": [
    "import matplotlib.pyplot as plt\n",
    "%matplotlib inline\n",
    "\n",
    "# Plot training & validation loss values\n",
    "plt.plot(histObj.history['loss'])\n",
    "plt.plot(histObj.history['val_loss'])\n",
    "plt.title('model_output loss')\n",
    "plt.ylabel('Loss')\n",
    "plt.xlabel('Epoch')\n",
    "plt.legend(['Train', 'Test'], loc='upper right')\n",
    "plt.show()\n",
    "\n",
    "# Plot training & validation accuracy values\n",
    "plt.plot(histObj.history['acc'])\n",
    "plt.plot(histObj.history['val_acc'])\n",
    "plt.title('Model accuracy')\n",
    "plt.ylabel('Accuracy')\n",
    "plt.xlabel('Epoch')\n",
    "plt.legend(['Train', 'Test'], loc='right')\n",
    "plt.show()"
   ]
  },
  {
   "cell_type": "markdown",
   "metadata": {},
   "source": [
    "***\n",
    "We can evaluate our model on a dataset. `model.evaluate` returns the metric(s) and loss(es) we have provided in the compile step. Note that a larger batch size also speeds up the calculation during prediction!"
   ]
  },
  {
   "cell_type": "code",
   "execution_count": 219,
   "metadata": {},
   "outputs": [
    {
     "name": "stdout",
     "output_type": "stream",
     "text": [
      "10000/10000 [==============================] - 0s 4us/sample - loss: 0.1935 - acc: 0.9204\n",
      "(0.1934622554063797, 0.9204)\n"
     ]
    }
   ],
   "source": [
    "# We evaluate our model on the complete trainings dataset \n",
    "# A larger batch size speeds up the calculations\n",
    "loss_value, accuracy = model.evaluate(x_train, y_train,batch_size=512)\n",
    "print(loss_value,accuracy)"
   ]
  },
  {
   "cell_type": "code",
   "execution_count": 249,
   "metadata": {},
   "outputs": [],
   "source": [
    "## Uncomment, if you want to test the speed improvements\n",
    "#%timeit y_pred=model.predict(x_train).reshape(y_train.shape) \n",
    "# 1 loop, best of 3: 189 ms per loop\n",
    "#%timeit y_pred=model.predict(x_train,batch_size=512).reshape(y_train.shape)\n",
    "# 10 loops, best of 3: 17 ms per loop\n",
    "## The results maybe differ but only within the numerical presicion\n",
    "#y_pred_a=model.predict(x_train).reshape(y_train.shape)\n",
    "#y_pred_b=model.predict(x_train,batch_size=512).reshape(y_train.shape)\n",
    "#print('numeric identical',np.sum(np.isclose(y_pred_a,y_pred_b)))\n",
    "y_pred=model.predict(x_train,batch_size=512).reshape(y_train.shape)"
   ]
  },
  {
   "cell_type": "code",
   "execution_count": 255,
   "metadata": {},
   "outputs": [
    {
     "name": "stdout",
     "output_type": "stream",
     "text": [
      "0.9204\n"
     ]
    }
   ],
   "source": [
    "# The accuracy calculation by hand\n",
    "accuracy=np.mean(np.equal(y_train, y_pred>0.5))\n",
    "print accuracy"
   ]
  },
  {
   "cell_type": "markdown",
   "metadata": {},
   "source": [
    "## Multi-Clasification"
   ]
  },
  {
   "cell_type": "markdown",
   "metadata": {},
   "source": [
    "$f_{k}(\\overrightarrow{x})=\\frac{\\exp({x_{k}})}{\\sum_{j=1}^{J} \\exp({x_{j}})} \\quad \\text { for } k=1, \\ldots, N_{classes}$"
   ]
  },
  {
   "cell_type": "code",
   "execution_count": null,
   "metadata": {},
   "outputs": [],
   "source": []
  }
 ],
 "metadata": {
  "kernelspec": {
   "display_name": "Python2 (eager)",
   "language": "python",
   "name": "eager"
  },
  "language_info": {
   "codemirror_mode": {
    "name": "ipython",
    "version": 2
   },
   "file_extension": ".py",
   "mimetype": "text/x-python",
   "name": "python",
   "nbconvert_exporter": "python",
   "pygments_lexer": "ipython2",
   "version": "2.7.14"
  }
 },
 "nbformat": 4,
 "nbformat_minor": 2
}
